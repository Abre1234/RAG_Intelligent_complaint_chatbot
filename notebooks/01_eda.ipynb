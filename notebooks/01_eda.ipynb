 {
 "cells": [
  {
   "cell_type": "markdown",
   "id": "5122c492-2078-4ad7-ba74-bc343747a4d5",
   "metadata": {},
   "source": [
    "#  Load the Datasest"
   ]
  },
  {
   "cell_type": "code",
   "execution_count": 2,
   "id": "8ded7379-d3d3-4c73-9849-447923464022",
   "metadata": {},
   "outputs": [
    {
     "data": {
      "text/html": [
       "<div>\n",
       "<style scoped>\n",
       "    .dataframe tbody tr th:only-of-type {\n",
       "        vertical-align: middle;\n",
       "    }\n",
       "\n",
       "    .dataframe tbody tr th {\n",
       "        vertical-align: top;\n",
       "    }\n",
       "\n",
       "    .dataframe thead th {\n",
       "        text-align: right;\n",
       "    }\n",
       "</style>\n",
       "<table border=\"1\" class=\"dataframe\">\n",
       "  <thead>\n",
       "    <tr style=\"text-align: right;\">\n",
       "      <th></th>\n",
       "      <th>Date received</th>\n",
       "      <th>Product</th>\n",
       "      <th>Sub-product</th>\n",
       "      <th>Issue</th>\n",
       "      <th>Sub-issue</th>\n",
       "      <th>Consumer complaint narrative</th>\n",
       "      <th>Company public response</th>\n",
       "      <th>Company</th>\n",
       "      <th>State</th>\n",
       "      <th>ZIP code</th>\n",
       "      <th>Tags</th>\n",
       "      <th>Consumer consent provided?</th>\n",
       "      <th>Submitted via</th>\n",
       "      <th>Date sent to company</th>\n",
       "      <th>Company response to consumer</th>\n",
       "      <th>Timely response?</th>\n",
       "      <th>Consumer disputed?</th>\n",
       "      <th>Complaint ID</th>\n",
       "    </tr>\n",
       "  </thead>\n",
       "  <tbody>\n",
       "    <tr>\n",
       "      <th>0</th>\n",
       "      <td>2025-06-20</td>\n",
       "      <td>Credit reporting or other personal consumer re...</td>\n",
       "      <td>Credit reporting</td>\n",
       "      <td>Incorrect information on your report</td>\n",
       "      <td>Information belongs to someone else</td>\n",
       "      <td>NaN</td>\n",
       "      <td>NaN</td>\n",
       "      <td>Experian Information Solutions Inc.</td>\n",
       "      <td>FL</td>\n",
       "      <td>32092</td>\n",
       "      <td>NaN</td>\n",
       "      <td>NaN</td>\n",
       "      <td>Web</td>\n",
       "      <td>2025-06-20</td>\n",
       "      <td>In progress</td>\n",
       "      <td>Yes</td>\n",
       "      <td>NaN</td>\n",
       "      <td>14195687</td>\n",
       "    </tr>\n",
       "    <tr>\n",
       "      <th>1</th>\n",
       "      <td>2025-06-20</td>\n",
       "      <td>Debt collection</td>\n",
       "      <td>Telecommunications debt</td>\n",
       "      <td>Attempts to collect debt not owed</td>\n",
       "      <td>Debt is not yours</td>\n",
       "      <td>NaN</td>\n",
       "      <td>Company can't verify or dispute the facts in t...</td>\n",
       "      <td>Eastern Account Systems of Connecticut, Inc.</td>\n",
       "      <td>FL</td>\n",
       "      <td>342XX</td>\n",
       "      <td>NaN</td>\n",
       "      <td>NaN</td>\n",
       "      <td>Web</td>\n",
       "      <td>2025-06-20</td>\n",
       "      <td>Closed with explanation</td>\n",
       "      <td>Yes</td>\n",
       "      <td>NaN</td>\n",
       "      <td>14195688</td>\n",
       "    </tr>\n",
       "    <tr>\n",
       "      <th>2</th>\n",
       "      <td>2025-06-20</td>\n",
       "      <td>Credit reporting or other personal consumer re...</td>\n",
       "      <td>Credit reporting</td>\n",
       "      <td>Improper use of your report</td>\n",
       "      <td>Reporting company used your report improperly</td>\n",
       "      <td>NaN</td>\n",
       "      <td>NaN</td>\n",
       "      <td>TRANSUNION INTERMEDIATE HOLDINGS, INC.</td>\n",
       "      <td>AZ</td>\n",
       "      <td>85225</td>\n",
       "      <td>NaN</td>\n",
       "      <td>NaN</td>\n",
       "      <td>Web</td>\n",
       "      <td>2025-06-20</td>\n",
       "      <td>In progress</td>\n",
       "      <td>Yes</td>\n",
       "      <td>NaN</td>\n",
       "      <td>14195689</td>\n",
       "    </tr>\n",
       "    <tr>\n",
       "      <th>3</th>\n",
       "      <td>2025-06-20</td>\n",
       "      <td>Credit reporting or other personal consumer re...</td>\n",
       "      <td>Credit reporting</td>\n",
       "      <td>Improper use of your report</td>\n",
       "      <td>Reporting company used your report improperly</td>\n",
       "      <td>NaN</td>\n",
       "      <td>NaN</td>\n",
       "      <td>Experian Information Solutions Inc.</td>\n",
       "      <td>AZ</td>\n",
       "      <td>85225</td>\n",
       "      <td>NaN</td>\n",
       "      <td>NaN</td>\n",
       "      <td>Web</td>\n",
       "      <td>2025-06-20</td>\n",
       "      <td>In progress</td>\n",
       "      <td>Yes</td>\n",
       "      <td>NaN</td>\n",
       "      <td>14195690</td>\n",
       "    </tr>\n",
       "    <tr>\n",
       "      <th>4</th>\n",
       "      <td>2025-06-20</td>\n",
       "      <td>Credit reporting or other personal consumer re...</td>\n",
       "      <td>Credit reporting</td>\n",
       "      <td>Incorrect information on your report</td>\n",
       "      <td>Account status incorrect</td>\n",
       "      <td>NaN</td>\n",
       "      <td>NaN</td>\n",
       "      <td>Experian Information Solutions Inc.</td>\n",
       "      <td>IL</td>\n",
       "      <td>60628</td>\n",
       "      <td>NaN</td>\n",
       "      <td>NaN</td>\n",
       "      <td>Web</td>\n",
       "      <td>2025-06-20</td>\n",
       "      <td>In progress</td>\n",
       "      <td>Yes</td>\n",
       "      <td>NaN</td>\n",
       "      <td>14195692</td>\n",
       "    </tr>\n",
       "  </tbody>\n",
       "</table>\n",
       "</div>"
      ],
      "text/plain": [
       "  Date received                                            Product  \\\n",
       "0    2025-06-20  Credit reporting or other personal consumer re...   \n",
       "1    2025-06-20                                    Debt collection   \n",
       "2    2025-06-20  Credit reporting or other personal consumer re...   \n",
       "3    2025-06-20  Credit reporting or other personal consumer re...   \n",
       "4    2025-06-20  Credit reporting or other personal consumer re...   \n",
       "\n",
       "               Sub-product                                 Issue  \\\n",
       "0         Credit reporting  Incorrect information on your report   \n",
       "1  Telecommunications debt     Attempts to collect debt not owed   \n",
       "2         Credit reporting           Improper use of your report   \n",
       "3         Credit reporting           Improper use of your report   \n",
       "4         Credit reporting  Incorrect information on your report   \n",
       "\n",
       "                                       Sub-issue Consumer complaint narrative  \\\n",
       "0            Information belongs to someone else                          NaN   \n",
       "1                              Debt is not yours                          NaN   \n",
       "2  Reporting company used your report improperly                          NaN   \n",
       "3  Reporting company used your report improperly                          NaN   \n",
       "4                       Account status incorrect                          NaN   \n",
       "\n",
       "                             Company public response  \\\n",
       "0                                                NaN   \n",
       "1  Company can't verify or dispute the facts in t...   \n",
       "2                                                NaN   \n",
       "3                                                NaN   \n",
       "4                                                NaN   \n",
       "\n",
       "                                        Company State ZIP code Tags  \\\n",
       "0           Experian Information Solutions Inc.    FL    32092  NaN   \n",
       "1  Eastern Account Systems of Connecticut, Inc.    FL    342XX  NaN   \n",
       "2        TRANSUNION INTERMEDIATE HOLDINGS, INC.    AZ    85225  NaN   \n",
       "3           Experian Information Solutions Inc.    AZ    85225  NaN   \n",
       "4           Experian Information Solutions Inc.    IL    60628  NaN   \n",
       "\n",
       "  Consumer consent provided? Submitted via Date sent to company  \\\n",
       "0                        NaN           Web           2025-06-20   \n",
       "1                        NaN           Web           2025-06-20   \n",
       "2                        NaN           Web           2025-06-20   \n",
       "3                        NaN           Web           2025-06-20   \n",
       "4                        NaN           Web           2025-06-20   \n",
       "\n",
       "  Company response to consumer Timely response? Consumer disputed?  \\\n",
       "0                  In progress              Yes                NaN   \n",
       "1      Closed with explanation              Yes                NaN   \n",
       "2                  In progress              Yes                NaN   \n",
       "3                  In progress              Yes                NaN   \n",
       "4                  In progress              Yes                NaN   \n",
       "\n",
       "   Complaint ID  \n",
       "0      14195687  \n",
       "1      14195688  \n",
       "2      14195689  \n",
       "3      14195690  \n",
       "4      14195692  "
      ]
     },
     "execution_count": 2,
     "metadata": {},
     "output_type": "execute_result"
    }
   ],
   "source": [
    "import pandas as pd\n",
    "\n",
    "# Adjust the path as necessary\n",
    "df = pd.read_csv(\"raw_complaints.csv\", low_memory=False)\n",
    "\n",
    "# Preview\n",
    "df.head()\n"
   ]
  },
  {
   "cell_type": "markdown",
   "id": "540d203e-c64e-4398-b41d-09fe3f432c09",
   "metadata": {},
   "source": [
    "#  Check for Nulls & Basic Info"
   ]
  },
  {
   "cell_type": "code",
   "execution_count": 3,
   "id": "c80f65e6-1120-49e3-a4ea-df98d5a2fb7d",
   "metadata": {},
   "outputs": [
    {
     "name": "stdout",
     "output_type": "stream",
     "text": [
      "<class 'pandas.core.frame.DataFrame'>\n",
      "RangeIndex: 9609797 entries, 0 to 9609796\n",
      "Data columns (total 18 columns):\n",
      " #   Column                        Dtype \n",
      "---  ------                        ----- \n",
      " 0   Date received                 object\n",
      " 1   Product                       object\n",
      " 2   Sub-product                   object\n",
      " 3   Issue                         object\n",
      " 4   Sub-issue                     object\n",
      " 5   Consumer complaint narrative  object\n",
      " 6   Company public response       object\n",
      " 7   Company                       object\n",
      " 8   State                         object\n",
      " 9   ZIP code                      object\n",
      " 10  Tags                          object\n",
      " 11  Consumer consent provided?    object\n",
      " 12  Submitted via                 object\n",
      " 13  Date sent to company          object\n",
      " 14  Company response to consumer  object\n",
      " 15  Timely response?              object\n",
      " 16  Consumer disputed?            object\n",
      " 17  Complaint ID                  int64 \n",
      "dtypes: int64(1), object(17)\n",
      "memory usage: 1.3+ GB\n"
     ]
    }
   ],
   "source": [
    "df.info()\n",
    "\n"
   ]
  },
  {
   "cell_type": "code",
   "execution_count": 4,
   "id": "1a551ddc-0ac5-43f1-9019-e10cbbcbbb47",
   "metadata": {},
   "outputs": [
    {
     "data": {
      "text/plain": [
       "Date received                         0\n",
       "Product                               0\n",
       "Sub-product                      235295\n",
       "Issue                                 6\n",
       "Sub-issue                        839522\n",
       "Consumer complaint narrative    6629041\n",
       "Company public response         4770207\n",
       "Company                               0\n",
       "State                             54516\n",
       "ZIP code                          30228\n",
       "Tags                            8981029\n",
       "Consumer consent provided?      1649561\n",
       "Submitted via                         0\n",
       "Date sent to company                  0\n",
       "Company response to consumer         20\n",
       "Timely response?                      0\n",
       "Consumer disputed?              8841498\n",
       "Complaint ID                          0\n",
       "dtype: int64"
      ]
     },
     "execution_count": 4,
     "metadata": {},
     "output_type": "execute_result"
    }
   ],
   "source": [
    "df.isnull().sum()"
   ]
  },
  {
   "cell_type": "markdown",
   "id": "92889402-8a4c-49b3-8ca2-94989d85d2e8",
   "metadata": {},
   "source": [
    "# Missing value per column"
   ]
  },
  {
   "cell_type": "code",
   "execution_count": 5,
   "id": "9e786bf1-7067-48a9-b8d4-355674467588",
   "metadata": {},
   "outputs": [
    {
     "name": "stdout",
     "output_type": "stream",
     "text": [
      "\n",
      "🧮 Missing values per column:\n",
      "\n",
      "Tags                            8981029\n",
      "Consumer disputed?              8841498\n",
      "Consumer complaint narrative    6629041\n",
      "Company public response         4770207\n",
      "Consumer consent provided?      1649561\n",
      "Sub-issue                        839522\n",
      "Sub-product                      235295\n",
      "State                             54516\n",
      "ZIP code                          30228\n",
      "Company response to consumer         20\n",
      "Issue                                 6\n",
      "Date sent to company                  0\n",
      "Timely response?                      0\n",
      "Date received                         0\n",
      "Submitted via                         0\n",
      "Product                               0\n",
      "Company                               0\n",
      "Complaint ID                          0\n",
      "dtype: int64\n"
     ]
    }
   ],
   "source": [
    "print(\"\\n🧮 Missing values per column:\\n\")\n",
    "print(df.isna().sum().sort_values(ascending=False))\n"
   ]
  },
  {
   "cell_type": "markdown",
   "id": "ce20de0d-9808-457f-a5af-69d4328e3450",
   "metadata": {},
   "source": [
    "# Droping Columns Above 95% Missing value"
   ]
  },
  {
   "cell_type": "code",
   "execution_count": 6,
   "id": "179fcfd5-fc4b-4e6b-ae5e-3fef6c06bdda",
   "metadata": {},
   "outputs": [
    {
     "name": "stdout",
     "output_type": "stream",
     "text": [
      "\n",
      "📉 Dropping columns with >95% missing values: []\n"
     ]
    }
   ],
   "source": [
    "\n",
    "#  Drop Columns with Too Many Nulls\n",
    "\n",
    "null_ratio = df.isna().sum() / len(df)\n",
    "columns_to_drop = null_ratio[null_ratio > 0.95].index.tolist()\n",
    "print(f\"\\n📉 Dropping columns with >95% missing values: {columns_to_drop}\")\n",
    "df.drop(columns=columns_to_drop, axis=1, inplace=True)\n",
    "\n"
   ]
  },
  {
   "cell_type": "markdown",
   "id": "e034f565-a5ec-4de0-b694-efe8db93227e",
   "metadata": {},
   "source": [
    "# Filtering to 5 Required Products"
   ]
  },
  {
   "cell_type": "code",
   "execution_count": 7,
   "id": "05d6282c-acb4-4a36-b892-b21f6fb27963",
   "metadata": {},
   "outputs": [
    {
     "name": "stdout",
     "output_type": "stream",
     "text": [
      "\n",
      "📊 Product value counts:\n",
      "\n",
      "Product\n",
      "Credit reporting or other personal consumer reports                             4834855\n",
      "Credit reporting, credit repair services, or other personal consumer reports    2163857\n",
      "Debt collection                                                                  799197\n",
      "Mortgage                                                                         422254\n",
      "Checking or savings account                                                      291178\n",
      "Credit card                                                                      226686\n",
      "Credit card or prepaid card                                                      206369\n",
      "Money transfer, virtual currency, or money service                               145066\n",
      "Credit reporting                                                                 140429\n",
      "Student loan                                                                     109717\n",
      "Bank account or service                                                           86205\n",
      "Vehicle loan or lease                                                             72957\n",
      "Consumer Loan                                                                     31574\n",
      "Payday loan, title loan, or personal loan                                         30641\n",
      "Payday loan, title loan, personal loan, or advance loan                           16514\n",
      "Prepaid card                                                                      15280\n",
      "Payday loan                                                                        5541\n",
      "Money transfers                                                                    5354\n",
      "Debt or credit management                                                          5047\n",
      "Other financial service                                                            1058\n",
      "Virtual currency                                                                     18\n",
      "Name: count, dtype: int64\n",
      "\n",
      "Filtered dataset shape (5 products): (232040, 18)\n"
     ]
    }
   ],
   "source": [
    "# Filter to Required Products\n",
    "products_needed = [\n",
    "    \"Credit card\", \"Personal loan\", \"Buy Now, Pay Later (BNPL)\",\n",
    "    \"Savings account\", \"Money transfers\"\n",
    "]\n",
    "print(\"\\n📊 Product value counts:\\n\")\n",
    "print(df[\"Product\"].value_counts())\n",
    "\n",
    "df = df[df[\"Product\"].isin(products_needed)]\n",
    "print(f\"\\nFiltered dataset shape (5 products): {df.shape}\")"
   ]
  },
  {
   "cell_type": "markdown",
   "id": "534bc935-13ea-4023-99f3-a88a52d5fa4a",
   "metadata": {},
   "source": [
    "# Droping Rows without Narratives"
   ]
  },
  {
   "cell_type": "code",
   "execution_count": 8,
   "id": "40c16302-1df6-4124-b701-c8c29008684f",
   "metadata": {},
   "outputs": [
    {
     "name": "stdout",
     "output_type": "stream",
     "text": [
      "\n",
      "🧼 Rows with complaint narrative before filtering: 232040\n",
      "After removing rows without complaint narrative: 82164\n"
     ]
    }
   ],
   "source": [
    "#  Drop Rows Without Narratives\n",
    "\n",
    "print(f\"\\n🧼 Rows with complaint narrative before filtering: {df.shape[0]}\")\n",
    "df = df.dropna(subset=[\"Consumer complaint narrative\"])\n",
    "print(f\"After removing rows without complaint narrative: {df.shape[0]}\")"
   ]
  },
  {
   "cell_type": "code",
   "execution_count": 10,
   "id": "0dbe425f-29f4-4ec4-b7e1-0c9b8b3754ab",
   "metadata": {},
   "outputs": [],
   "source": [
    "#  Clean Narratives\n",
    "import re\n",
    "\n",
    "def clean_text(text):\n",
    "    text = str(text).lower()\n",
    "    text = re.sub(r'\\n', ' ', text)\n",
    "    text = re.sub(r'[^a-z0-9\\s]', '', text)\n",
    "    text = re.sub(r'\\s+', ' ', text).strip()\n",
    "    return text\n",
    "\n",
    "df[\"cleaned_narrative\"] = df[\"Consumer complaint narrative\"].apply(clean_text)\n"
   ]
  },
  {
   "cell_type": "markdown",
   "id": "88e55663-f722-478e-8737-d38341ec61ee",
   "metadata": {},
   "source": [
    "# Complaint Narrative Length (EDA)"
   ]
  },
  {
   "cell_type": "code",
   "execution_count": 13,
   "id": "d63aed9b-1f67-4f9e-b235-fecea148cc5d",
   "metadata": {},
   "outputs": [
    {
     "data": {
      "image/png": "[encoded data removed]",
      "text/plain": [
       "<Figure size 1000x500 with 1 Axes>"
      ]
     },
     "metadata": {},
     "output_type": "display_data"
    }
   ],
   "source": [
    "# Narrative Length Distribution\n",
    "import matplotlib.pyplot as plt\n",
    "import seaborn as sns\n",
    "\n",
    "df[\"narrative_length\"] = df[\"cleaned_narrative\"].apply(lambda x: len(x.split()))\n",
    "\n",
    "plt.figure(figsize=(10, 5))\n",
    "sns.histplot(df[\"narrative_length\"], bins=50, kde=True)\n",
    "plt.title(\"Distribution of Narrative Lengths\")\n",
    "plt.xlabel(\"Word Count\")\n",
    "plt.ylabel(\"Frequency\")\n",
    "plt.grid(True)\n",
    "plt.tight_layout()\n",
    "plt.show()"
   ]
  },
  {
   "cell_type": "markdown",
   "id": "331cd24d-c6b5-42ba-b819-74aa197ec140",
   "metadata": {},
   "source": [
    "#   Distribution of Complaints by Product"
   ]
  },
  {
   "cell_type": "code",
   "execution_count": 17,
   "id": "e4574ecf-b8ba-4ee7-af4c-27c97dd7c6d0",
   "metadata": {},
   "outputs": [
    {
     "name": "stderr",
     "output_type": "stream",
     "text": [
      "C:\\Users\\dell\\AppData\\Local\\Temp\\ipykernel_2308\\138976971.py:6: FutureWarning: \n",
      "\n",
      "Passing `palette` without assigning `hue` is deprecated and will be removed in v0.14.0. Assign the `y` variable to `hue` and set `legend=False` for the same effect.\n",
      "\n",
      "  sns.countplot(y='Product', data=df, order=df['Product'].value_counts().index, palette='viridis')\n",
      "C:\\Users\\dell\\AppData\\Local\\Temp\\ipykernel_2308\\138976971.py:10: UserWarning: Glyph 128202 (\\N{BAR CHART}) missing from font(s) DejaVu Sans.\n",
      "  plt.tight_layout()\n",
      "C:\\ProgramData\\anaconda3\\Lib\\site-packages\\IPython\\core\\pylabtools.py:170: UserWarning: Glyph 128202 (\\N{BAR CHART}) missing from font(s) DejaVu Sans.\n",
      "  fig.canvas.print_figure(bytes_io, **kw)\n"
     ]
    },
    {
     "data": {
      "image/png": "[encoded data removed]",
      "text/plain": [
       "<Figure size 1000x600 with 1 Axes>"
      ]
     },
     "metadata": {},
     "output_type": "display_data"
    }
   ],
   "source": [
    "#  Distribution of Complaints by Product\n",
    "import matplotlib.pyplot as plt\n",
    "import seaborn as sns\n",
    "\n",
    "plt.figure(figsize=(10, 6))\n",
    "sns.countplot(y='Product', data=df, order=df['Product'].value_counts().index, palette='viridis')\n",
    "plt.title('📊 Distribution of Complaints by Product')\n",
    "plt.xlabel('Number of Complaints')\n",
    "plt.ylabel('Product Type')\n",
    "plt.tight_layout()\n",
    "\n",
    "# Save the plot\n",
    "plt.show()\n"
   ]
  },
  {
   "cell_type": "markdown",
   "id": "f948f4f3-f3d3-40df-886e-6f98f5eeb554",
   "metadata": {},
   "source": [
    "# Check Proportion of Narratives With vs. Without Text"
   ]
  },
  {
   "cell_type": "code",
   "execution_count": 15,
   "id": "124dce61-52ba-4e5f-9408-9ef50b280309",
   "metadata": {
    "scrolled": true
   },
   "outputs": [
    {
     "data": {
      "image/png": "[encoded data removed]",
      "text/plain": [
       "<Figure size 600x600 with 1 Axes>"
      ]
     },
     "metadata": {},
     "output_type": "display_data"
    }
   ],
   "source": [
    "has_narrative = df['Consumer complaint narrative'].notnull().sum()\n",
    "no_narrative = df['Consumer complaint narrative'].isnull().sum()\n",
    "\n",
    "labels = ['Has Narrative', 'No Narrative']\n",
    "sizes = [has_narrative, no_narrative]\n",
    "\n",
    "plt.figure(figsize=(6, 6))\n",
    "plt.pie(sizes, labels=labels, autopct='%1.1f%%', startangle=140)\n",
    "plt.title('Narrative Availability')\n",
    "plt.axis('equal')\n",
    "plt.show()\n"
   ]
  },
  {
   "cell_type": "markdown",
   "id": "28b94e4d-3d01-4319-abb2-2d11c4168ef3",
   "metadata": {},
   "source": [
    "*  I get 0 %  No Narrative Because of I Drop on the above."
   ]
  },
  {
   "cell_type": "markdown",
   "id": "157b0abb-6fcd-4b1f-880c-3169f2683481",
   "metadata": {},
   "source": [
    "# Save Cleaned Dataset"
   ]
  },
  {
   "cell_type": "code",
   "execution_count": 21,
   "id": "7f20dcb2-84bf-4f78-9173-44898df63d25",
   "metadata": {},
   "outputs": [
    {
     "name": "stdout",
     "output_type": "stream",
     "text": [
      "\n",
      "✅ Cleaned data saved to: data/Processed_data\\filtered_complaints.csv\n"
     ]
    }
   ],
   "source": [
    "import os\n",
    "\n",
    "# Create directory if it doesn't exist\n",
    "processed_data_path = \"data/Processed_data\"\n",
    "os.makedirs(processed_data_path, exist_ok=True)\n",
    "\n",
    "# Now save the file\n",
    "filtered_path = os.path.join(processed_data_path, \"filtered_complaints.csv\")\n",
    "df.to_csv(filtered_path, index=False)\n",
    "print(f\"\\n✅ Cleaned data saved to: {filtered_path}\")\n"
   ]
  }
 ],
 "metadata": {
  "kernelspec": {
   "display_name": "Python 3 (ipykernel)",
   "language": "python",
   "name": "python3"
  },
  "language_info": {
   "codemirror_mode": {
    "name": "ipython",
    "version": 3
   },
   "file_extension": ".py",
   "mimetype": "text/x-python",
   "name": "python",
   "nbconvert_exporter": "python",
   "pygments_lexer": "ipython3",
   "version": "3.12.7"
  }
 },
 "nbformat": 4,
 "nbformat_minor": 5
}
